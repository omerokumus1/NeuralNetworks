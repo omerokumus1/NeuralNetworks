{
  "nbformat": 4,
  "nbformat_minor": 0,
  "metadata": {
    "colab": {
      "name": "NN_HW1.ipynb",
      "provenance": [],
      "collapsed_sections": [],
      "authorship_tag": "ABX9TyMaFTsGPJb9x++xU2f1XzJ7",
      "include_colab_link": true
    },
    "kernelspec": {
      "name": "python3",
      "display_name": "Python 3"
    },
    "language_info": {
      "name": "python"
    }
  },
  "cells": [
    {
      "cell_type": "markdown",
      "metadata": {
        "id": "view-in-github",
        "colab_type": "text"
      },
      "source": [
        "<a href=\"https://colab.research.google.com/github/omerokumus1/NeuralNetworks/blob/main/NN_HW1.ipynb\" target=\"_parent\"><img src=\"https://colab.research.google.com/assets/colab-badge.svg\" alt=\"Open In Colab\"/></a>"
      ]
    },
    {
      "cell_type": "markdown",
      "source": [
        "**Import libraries**"
      ],
      "metadata": {
        "id": "3AyIa7dmeXrU"
      }
    },
    {
      "cell_type": "code",
      "source": [
        "import random as rnd \n",
        "import numpy as np\n",
        "import matplotlib.pyplot as plt\n",
        "import time"
      ],
      "metadata": {
        "id": "RCGS27XmeeMs"
      },
      "execution_count": null,
      "outputs": []
    },
    {
      "cell_type": "markdown",
      "source": [
        "# Creating data set\n"
      ],
      "metadata": {
        "id": "0MhPpak7db_Q"
      }
    },
    {
      "cell_type": "markdown",
      "source": [
        "\n",
        "\n",
        "*   pick a and b as a = 3, b = 2\n",
        "\n"
      ],
      "metadata": {
        "id": "hb3wKEXQd3_g"
      }
    },
    {
      "cell_type": "code",
      "execution_count": null,
      "metadata": {
        "id": "bLmyBIUncePn"
      },
      "outputs": [],
      "source": [
        "a = 3\n",
        "b = 2"
      ]
    },
    {
      "cell_type": "markdown",
      "source": [
        "* Generate 1000 random x points between 0 and 100"
      ],
      "metadata": {
        "id": "fdquRmMueQMS"
      }
    },
    {
      "cell_type": "code",
      "source": [
        "data_count = 1000\n",
        "start = 0\n",
        "end = 100\n",
        "X_data = np.random.randint(start, end, data_count)\n",
        "\n",
        "print(X_data) "
      ],
      "metadata": {
        "id": "_S-ZUEYOeMCj",
        "colab": {
          "base_uri": "https://localhost:8080/"
        },
        "outputId": "711bb733-5ef5-4e7d-cd6b-2feb3b7e5c01"
      },
      "execution_count": null,
      "outputs": [
        {
          "output_type": "stream",
          "name": "stdout",
          "text": [
            "[ 8 67 46 51 65 47  1 33 72 95 28  2 79 28 17 29 94 22 54  4 21 19 13 55\n",
            " 84 69 68 90 86 17 46 94 19  5 98 38 41  3 55 10 17 76 37 54 77 31 93 28\n",
            " 63 36 40 74 83 49 97 39 11 77 72 35 77  3 85 82 49 36 82 61 85 86 48 38\n",
            "  8 91 66 80 12 38 61 97 98 13 39 83  1 96 91 85 76 78 27 95 72 40 91 56\n",
            " 45 39  6 72 37 57 70 81 37  5 93 84  8 71 54 53 30 55 71 70 12 20 84 40\n",
            " 26  2 81 28  5  3 45 40 89 22 71 69 51 42  6 71 91 64 59 62 89 59  3 23\n",
            " 61 31 47 27 95 60  8 55 58 77 30 21 62 20  1 81 65 87 37 35 74 37 49 37\n",
            " 21 51 55 46 54 90 33 26 90 65 33 58 63 74 18  8  2 70 47 48  8  3 84 13\n",
            " 29 15 56 85 50 85 36 70 14 38 74 57 99 50 74 69  3 19 76 61 57 60 58 67\n",
            "  1 71 82 14 68 49 40  8 99 62 70 63 32 90  2 63 25 77 93 62 10 73  6 10\n",
            " 51 83 11 69 86 96 18 75 90 61 35 23 64 18 99 43 35 55 99 12 51 15 66 23\n",
            " 57 65 66 44 89 87 10 41 55 57 78 37 50 90 70 93 25 58 68 32 98 73 20 33\n",
            " 97 59 77 62 29 99  0  6 36  0 76 90  4  4 69 68 52 70 48 21 75  7 13 73\n",
            "  4 97  3 55 84 87 82  5 93 69 23 99 14 82 96  3  1 14 35 78 40 51 12 12\n",
            " 15 97 19 29 19 26  1 67 73  9 50 30 78 26 94 89 81 30 51  1 69 99 53 25\n",
            " 32 71 63 61 19 98 77 28 97 45 83 53 86 49  3 58 79 63 35 29 53 76 63 58\n",
            " 78 42 50 43 20 94 97 84 75 58 94 60 57 15 28 79 48 99 56 53 79 12 13 11\n",
            " 98 17 46 94 37 99 44 53 28 41 89 17 22 50 41 31 25 57 95 69 95 16 90 26\n",
            " 15 19 68 36 78 30 82 51 42 45 42 87 32 23 78 20 68 77 70 91 29 63  5 18\n",
            "  0 16 88 40 99 43 60 27 99 15 93  2 26 44 97 15 56 10 79 28 94 90  0 99\n",
            " 64 20 77 43 37 40  7 82 78 65 76 30 69 84 17 67 25 69 64  1 90 69 88  9\n",
            " 23 65  8 95 16 59 28  2 36 78 21 64 59 95 91 89 32 47 41 65 24 74 65 41\n",
            " 44 11 89 14 57 32 20 12  7 43  2  1 16 89 53 47 49 60 16 39 83 82 95 83\n",
            " 50 78 19 59 64 69 62 71 99 47  1 32 45 66 49 12 60 97 39 74 15 76 92 90\n",
            " 74 43 27 58 53 54 94 27 11 30 71 98  0 20 44 76 50 53 53 80 68 90 78 30\n",
            " 30 46 56 22 22  7 84 19 84 54 24 70 81 29 42 38 89 45 45 35 87  7  1 57\n",
            " 81 97 88 48  1 46 87 39 45 92 26 79 20 98 85 55 82 99 32 89 32 95 96 27\n",
            " 85 90 24 26 59 63 73 56 70 97 82 91 23 70 79 34 90 28 20 15 35 56 36 18\n",
            " 38 32 77 74 54 55 63 92 19 63 71 15 33 46 83 20 41 49 86 62 22 74 93 39\n",
            " 53 82 62 43 83 40 20 32 79 34 72 38 22 46 21 64 58 49 87 12 26 80 29 17\n",
            " 22 32 99 35 72 20 46 37 43 76 91 10 72  7 26  8 50 93 65 26 69 94 83 67\n",
            " 82 56  1 82 56 61 80 69 22 20 85  4 46 46 59 63 45 89  8 38 37 80 14  1\n",
            "  9 27 25 42 10 79 51 51 99 36 76  4 24  0 92 58 79 40 42 75 68 59 53 30\n",
            " 14 58 20 61 46 35 82 95 32 84 89 71 32 80 84 30 99 28 13 12 20  8 92 88\n",
            " 71 97  7 89 77 68 80 59 34  5 48 30 75 40 91 21 17 77 50 35  7 34 93  2\n",
            " 58 54 37 66 11 66 39 90 82 45 44 13 16 46  6 86 33 65 81 50 62 68 25 53\n",
            " 91 65 21  3 71 36  8 23 19 81 48  1 97 89 11 28 85 11 46 44 94 31 96 32\n",
            " 28 80 26 97  2 72 54 43  0  3 75 15 65 91 36 94 38 18 59 85 71 77 79  2\n",
            " 22 35 23 98 93 81  5  8 71 26 27 48 29 29 97 60 11 33 33 94 10 75 17 77\n",
            " 57 69 17 88 59 25 38 59 91 84 55 49 58 10 82 52 77 35 24 42 22 89 24 25\n",
            " 66 56 80 81  9 75 87 64 10 47 64 76 85 83 33 32 49 26 93 75  4 32  8 96\n",
            "  3 11 40 26 46 77  0 62 36 63 27 60 84 80 69 94]\n"
          ]
        }
      ]
    },
    {
      "cell_type": "markdown",
      "source": [
        "* Generate y values by y = ax+b + 10*noise"
      ],
      "metadata": {
        "id": "sJXQS9Wsgliz"
      }
    },
    {
      "cell_type": "code",
      "source": [
        "# mean = 0\n",
        "# st_dev = 1\n",
        "# err_coef = 10\n",
        "# noise_values = np.random.normal(mean,st_dev,data_count)\n",
        "# Y_data = a*X_data + b + err_coef*noise_values\n",
        "\n",
        "# print(Y_data)\n",
        "\n",
        "mean = 0\n",
        "st_dev = 1\n",
        "noise_values = np.random.normal(mean,st_dev,data_count)\n",
        "Y_data = []\n",
        "for i in range(len(X_data)):\n",
        "  err_coef = rnd.randint(0,100)\n",
        "  yi = a*X_data[i] + b + err_coef*noise_values[i]\n",
        "  Y_data.append(yi)\n",
        "\n",
        "Y_data = np.array(Y_data)\n",
        "\n",
        "print(Y_data)"
      ],
      "metadata": {
        "id": "iSIs1fvSfLQA",
        "colab": {
          "base_uri": "https://localhost:8080/"
        },
        "outputId": "31144af9-5897-4743-cdc6-2ce675f3a956"
      },
      "execution_count": null,
      "outputs": [
        {
          "output_type": "stream",
          "name": "stdout",
          "text": [
            "[ 9.83658693e+01  2.45266493e+02  8.02979136e+01  1.47862283e+02\n",
            "  1.94155033e+02  1.36316073e+02 -9.34975547e-01  2.44684768e+02\n",
            "  1.90068327e+02  2.51100216e+02  5.86118191e+01  4.92486834e+01\n",
            "  1.62430336e+02  9.69582486e+01  5.28599170e+01  1.47278188e+02\n",
            "  2.48175477e+02  1.53293093e+02  1.02900118e+02  4.47911860e+01\n",
            "  1.10942580e+02  6.36698324e+01  4.39807193e+01  2.88013052e+02\n",
            "  2.67336397e+02  2.09389126e+02  1.87161301e+02  2.70662565e+02\n",
            "  2.50060793e+02  5.58188689e+01  1.63862815e+02  2.84479083e+02\n",
            "  2.51038286e+02 -2.10039657e+01  2.95801739e+02  1.32548759e+02\n",
            "  1.85815850e+02 -4.71497685e+01  1.43415956e+02 -4.97726783e+01\n",
            "  3.58474177e+01  2.33571750e+02  1.07972292e+02  2.15066063e+02\n",
            "  2.23256316e+02  2.17090936e+00  2.63264309e+02  8.28246374e+01\n",
            "  2.52731971e+02  3.65867462e+01  1.69380891e+02  2.40334246e+02\n",
            "  2.92279443e+02  1.62421317e+02  2.88326614e+02  1.31768647e+02\n",
            "  3.50000000e+01  2.38933617e+02  2.19015758e+02  7.44552001e+01\n",
            "  2.74165653e+02 -9.34730248e+01  2.99245705e+02  2.08345153e+02\n",
            "  1.49000000e+02  6.47382706e+01  2.13185318e+02  1.39052302e+02\n",
            "  2.98382158e+02  2.74616605e+02  1.18245625e+02  1.75050590e+02\n",
            "  2.86113750e+01  2.69892334e+02  1.61079089e+02  2.02170928e+02\n",
            "  2.48137653e+01  9.37153157e+01  2.62785707e+02  2.81636964e+02\n",
            "  2.96000000e+02  2.25218803e+01  1.19205957e+02  2.47343031e+02\n",
            " -5.06719299e+01  2.80730212e+02  2.95093900e+02  2.93354948e+02\n",
            "  2.25002648e+02  2.10804792e+02  8.95002494e+01  3.15924040e+02\n",
            "  2.43697314e+02  6.26882854e+01  3.14597799e+02  1.98260090e+02\n",
            "  1.12043829e+01  1.19999377e+02  5.42182772e+01  2.68338335e+02\n",
            "  9.62870411e+01  2.31275331e+02  2.36940490e+02  2.45870669e+02\n",
            "  1.49048733e+02  5.30497360e+01  2.07844063e+02  2.36849539e+02\n",
            "  2.98796642e+01  9.09408163e+01  1.91996697e+02  1.30110667e+02\n",
            "  1.69165771e+02  1.65477980e+02  1.20837058e+02  1.15915285e+02\n",
            "  7.92310223e+01  3.05638512e+01  3.60287882e+02  1.03775967e+02\n",
            "  7.86283578e+01  1.13358201e+02  2.79124211e+02  9.45136298e+01\n",
            " -4.78438124e+01 -5.88456956e+01  1.15413559e+02  1.10865065e+02\n",
            "  2.71438679e+02 -1.01378298e+02  2.06786391e+02  3.56014944e+02\n",
            "  2.11534142e+02  1.68051246e+02  4.24904940e+01  2.43841569e+02\n",
            "  3.09649058e+02  2.09598726e+02  1.42595232e+02  2.17016157e+02\n",
            "  2.49687381e+02  1.78994856e+02 -1.13994533e+02  1.65557237e+02\n",
            "  8.37442961e+01  1.12790404e+02  1.60927132e+02  4.08246973e+01\n",
            "  2.92674240e+02  3.43474379e+02 -4.30804468e-01  1.41929578e+02\n",
            "  2.10142792e+02  1.78819376e+02  1.91348170e+01  9.50592573e+01\n",
            "  1.89145744e+02  6.37822336e+01  9.41922886e+00  1.93446543e+02\n",
            "  2.17701198e+02  2.39749981e+02  4.36790409e+01  1.44403064e+02\n",
            "  1.42572791e+02  1.31827391e+02  1.50017633e+02  7.59664420e+01\n",
            "  6.86186913e+01  1.60002870e+02  2.27545706e+02  1.50918615e+02\n",
            "  1.65302699e+02  3.86544223e+02  1.02577754e+02  1.78157340e+02\n",
            "  2.91880818e+02  1.87644101e+02  1.79357070e+02 -5.98500767e+00\n",
            "  2.21983326e+02  2.65192434e+02  3.22168557e+01  2.69008567e+01\n",
            "  3.25472615e+01  1.67168998e+02  1.71758741e+02  1.36728536e+02\n",
            "  2.57023579e+01  1.24889660e+02  2.50123539e+02  1.42177027e+01\n",
            "  6.91821894e+01  5.68162057e+01  2.26106845e+02  3.29696497e+02\n",
            "  1.50905039e+02  2.59248387e+02  5.84697723e+01  1.38582759e+02\n",
            "  4.52794605e+01  1.09734376e+02  2.19231902e+02  1.05433385e+02\n",
            "  3.57514219e+02  1.55310574e+02  2.19963424e+02  2.26188070e+02\n",
            "  5.17007433e+01 -2.26209645e+02  2.43250440e+02  1.45686641e+02\n",
            "  1.32523460e+02  1.82643834e+02  1.74768086e+02  2.50400649e+02\n",
            "  5.00000000e+00  1.74019253e+02  3.34490062e+02  1.52171199e+02\n",
            "  1.33754832e+02  1.90582039e+02  1.24447992e+02  1.35574805e+01\n",
            "  2.76918090e+02  1.85040576e+02  1.77887977e+02  8.35209950e+01\n",
            "  7.22427656e+01  2.75174471e+02 -6.57097146e+01  2.17461324e+02\n",
            "  4.57613661e+00  2.62396542e+02  3.09640132e+02  1.28343522e+02\n",
            "  5.84598162e+01  2.76110218e+02 -2.78367579e+01 -1.14798852e+02\n",
            "  2.39432901e+02  2.99039375e+02  9.65524961e+01  2.16976233e+02\n",
            "  1.44575200e+02  3.77863880e+02  5.70546125e+01  2.28787968e+02\n",
            "  2.93860979e+02  2.46488710e+02  1.05762462e+02  6.75988604e+01\n",
            "  1.84272860e+02  1.21408335e+02  2.72979785e+02  1.45012979e+02\n",
            "  6.97760106e+00  1.25689920e+02  3.59123471e+02 -7.79851049e+01\n",
            "  1.13019903e+02  7.01185691e+01  2.21685311e+02  1.11787534e+02\n",
            "  1.83006167e+02  2.00920169e+02  1.96782953e+02  1.26241933e+02\n",
            "  2.50792248e+02  2.13951461e+02  3.63415599e+01  1.48081496e+02\n",
            "  1.86185972e+02  1.76272297e+02  2.93431318e+02  8.95447883e+01\n",
            "  1.53813626e+02  3.14312376e+02  2.25747404e+02  2.81000000e+02\n",
            "  7.07953309e+01  1.15319918e+02  1.46380583e+02  1.11829934e+02\n",
            "  3.02831093e+02  2.23427851e+02  2.85040409e+01  1.53072459e+02\n",
            "  3.04666182e+02  1.63431148e+02  2.20165414e+02  2.89487182e+02\n",
            "  9.56263436e+01  2.43804222e+02 -1.14338918e+01  9.90930567e+01\n",
            "  1.08607411e+02  1.43893838e+02  2.21143670e+02  2.93582952e+02\n",
            "  5.32919278e+01 -3.72353296e+01  2.08801109e+02  1.99249396e+02\n",
            "  1.58000000e+02  2.32194076e+02  8.20645459e+01  9.29082516e+01\n",
            "  1.36412564e+02  1.94158679e+01  1.33338133e+02  2.57442180e+02\n",
            "  3.70832492e+01  1.80357346e+02 -1.87123432e+01  1.88612975e+02\n",
            "  2.88141651e+02  1.28075482e+02  2.71882931e+02  1.51199872e+01\n",
            "  3.29395352e+02  3.07953887e+02  5.88802934e+01  2.87504525e+02\n",
            "  5.63196876e+01  1.42976552e+02  2.40435306e+02 -1.73465034e+01\n",
            "  4.98532000e+01  4.58487692e+01  3.37692188e+01  2.39013201e+02\n",
            "  4.13617167e+02  8.19700096e+01  7.35021283e+01  3.44980714e+01\n",
            " -3.77189314e+01  4.32152482e+02  2.48411613e+02 -4.12252544e+01\n",
            "  9.55408573e+00  8.21434962e+01  5.38507832e-01  2.05490323e+02\n",
            "  1.97269041e+02  5.10701994e+01  1.28854320e+02  1.30548194e+02\n",
            "  2.49059957e+02  3.10596381e+01  3.13516865e+02  3.33485077e+02\n",
            "  2.43330781e+02  1.28231669e+02  1.18203030e+02 -3.64648968e+01\n",
            "  1.36236232e+02  4.09343890e+02  2.28241097e+02  7.00464023e+01\n",
            "  1.67038132e+02  1.40997911e+02  2.00875187e+02  2.13488881e+02\n",
            "  9.38254995e+01  2.58706115e+02  2.19237677e+02  6.91445248e+01\n",
            "  3.26421524e+02  1.27160599e+02  2.19958207e+02  1.21627125e+02\n",
            "  2.58798962e+02  2.86498863e+02 -3.63786126e+00  2.07498935e+02\n",
            "  3.75631222e+02  2.61717021e+02  9.60208710e+01  6.61648863e+01\n",
            "  1.30385734e+02  2.11048067e+02  5.51004366e+01  2.03033579e+02\n",
            "  2.12012732e+02  3.01667063e+01  1.47830118e+02  1.15219524e+02\n",
            "  9.49768407e+01  3.68553499e+02  2.10517291e+02  1.62963597e+02\n",
            "  2.82435950e+02  1.69106000e+02  2.80095789e+02  4.74218709e+01\n",
            "  1.32234638e+02  6.28328369e+01 -2.66875033e+01  2.73100625e+02\n",
            "  1.62994945e+02  3.20791287e+02  1.43233263e+02  8.49222620e+01\n",
            "  2.90352528e+02  4.93181302e+01  3.74292034e+01  3.08501878e+00\n",
            "  3.26785696e+02  2.91284864e+01  1.02117181e+02  2.77805853e+02\n",
            "  1.23876872e+02  3.39652814e+02  1.38614341e+02  1.49767678e+02\n",
            "  1.59362429e+02  6.96611018e+01  3.37875750e+02  6.55027543e+01\n",
            "  4.95718860e+01  1.84469687e+02  1.14002724e+02  2.10542081e+01\n",
            " -7.45457745e+01  1.85278806e+02  3.03628147e+02  1.02218913e+02\n",
            "  2.45050645e+02  5.00000000e+01  1.85406655e+02  7.41074091e+01\n",
            " -1.37143006e+02  5.99268397e+01  1.27991507e+02  6.13730970e+01\n",
            "  2.10101899e+02  2.48448302e+02  1.01487449e+02  1.52721670e+02\n",
            "  1.43949810e+02  1.46588542e+02  1.61656193e+02  2.55534639e+02\n",
            "  1.01862401e+02 -4.84416009e+01  2.05944893e+02  7.23664234e+01\n",
            "  1.14688498e+02  1.28357744e+02  2.14029350e+02  2.73291033e+02\n",
            "  3.00329602e+01  9.40441974e+01 -2.21620270e+01  1.00143098e+02\n",
            " -5.26532411e+00 -5.50272520e+01  3.17108616e+02  2.40051380e+02\n",
            "  2.84082971e+02  8.01935024e+01  2.82998098e+02  2.16681237e+02\n",
            "  3.06722500e+02  6.73812550e+01  2.64647495e+02  3.79095179e+01\n",
            "  1.25151795e+02  1.45101265e+02  2.80450467e+02 -4.72546724e+01\n",
            "  1.64319249e+02 -3.30071618e+01  1.88232946e+02 -1.51327725e+02\n",
            "  3.55322516e+02  2.65636102e+02  5.93421091e+01  2.17577307e+02\n",
            "  1.94866176e+02  6.23130729e+01  2.58562315e+02  2.49342069e+01\n",
            "  1.02576131e+02  1.41042655e+02  7.00489143e+01  2.15183970e+02\n",
            "  2.32631099e+02  2.01233871e+02  2.24162417e+02  1.09601425e+02\n",
            "  2.47765803e+02  1.18190171e+02  3.23759392e+01  2.15242918e+02\n",
            "  8.05458670e+01  3.25568812e+02  9.65057971e+01 -1.51738764e+00\n",
            "  2.95447421e+02  8.61202110e+01  3.89439209e+02  4.39846780e+01\n",
            "  1.44302120e+02  1.93373417e+02 -8.53399266e+00  2.27485109e+02\n",
            "  5.64284728e+01  3.52375735e+02 -1.50355824e+01 -2.11070012e+01\n",
            "  8.24534367e+01  2.47375349e+02  8.49617603e+01  2.70073887e+02\n",
            "  2.21423602e+02  2.09980860e+02  2.75150329e+02  3.15051160e+02\n",
            "  1.12524145e+02  1.10761291e+02  1.16869644e+02  1.87541721e+02\n",
            "  1.06973728e+02  2.49160711e+02  1.92724191e+02  1.56711080e+02\n",
            "  7.18709639e+01  2.60715468e+01  3.16185214e+02 -9.14648205e+00\n",
            "  1.83374799e+02  2.19865627e+02  8.50992001e+01  9.76311324e+01\n",
            "  3.08335041e+01  1.53833349e+02 -9.16636087e+01 -3.07113694e+01\n",
            "  1.35074178e+02  2.13965010e+02  1.57945888e+02  1.39871519e+02\n",
            "  2.06507521e+02  2.47534264e+02  7.67058356e+01  2.09761496e+02\n",
            "  3.10519022e+02  2.55283344e+02  2.84849296e+02  2.60641829e+02\n",
            "  2.21470559e+02  9.46100948e+01  5.92989068e+01  2.74513965e+02\n",
            "  1.89243091e+02  2.08309149e+02  2.06467897e+02  1.42165475e+02\n",
            "  2.84676361e+02  1.72300126e+02  6.00208321e+01  1.00613856e+02\n",
            "  1.27638309e+02  1.90864487e+02  4.88360761e+01  5.36173408e+01\n",
            "  1.20441566e+02  3.22041738e+02  9.76834391e+01  3.43030479e+02\n",
            "  2.49418017e+01  1.91568984e+02  2.63094716e+02  2.52239939e+02\n",
            "  2.33459462e+02  3.04918964e+02  6.40038893e+01  1.65618638e+02\n",
            "  1.41545128e+02  1.64711352e+02  2.79541816e+02  4.63543395e+01\n",
            "  5.48292533e+01  4.06473436e+01  2.44628866e+02  2.35891000e+02\n",
            " -4.88436391e+01  5.67647021e+01  1.14529246e+02  1.87819260e+02\n",
            "  2.79372249e+02  9.70444936e+01  1.27131464e+02  2.46674528e+02\n",
            "  2.70406889e+02  2.42958586e+02  1.99676272e+02  1.06270009e+02\n",
            "  1.17525586e+02  1.64043844e+02  1.83920319e+02  3.63721893e+01\n",
            "  1.01755935e+02  1.97747376e+01  3.32032742e+02 -2.56963120e+00\n",
            "  2.63773888e+02  1.97876820e+02  9.77733089e+01  3.03781736e+02\n",
            "  2.70385887e+02  1.03962836e+01  1.88459003e+02  1.05342288e+02\n",
            "  3.98747949e+02  1.31348700e+02  1.44167322e+02  1.62435592e+02\n",
            "  2.70121198e+02  1.97277501e+01  6.80977514e+00  1.73775228e+02\n",
            "  2.32841183e+02  3.58096739e+02  2.61227612e+02  1.52289152e+02\n",
            "  2.05677137e+01  1.37809955e+02  3.97789075e+02  1.78490004e+02\n",
            "  1.46933091e+02  3.43239647e+02  6.08727328e+01  2.34816800e+02\n",
            "  5.80235333e+01  3.05485219e+02  2.97622517e+02  1.26961111e+02\n",
            "  2.03511139e+02  3.04549982e+02  1.04553842e+01  3.08759608e+02\n",
            "  9.92675433e+01  2.20244743e+02  2.41524145e+02  8.68724974e+01\n",
            "  1.05236159e+02  3.17335635e+02  7.31220985e+01  6.13142369e+01\n",
            "  3.58341858e+02  2.47561170e+02  1.87475699e+02  1.00301210e+02\n",
            "  2.82754585e+02  4.30222078e+02  2.76262335e+02  2.52973095e+02\n",
            "  1.93151594e+02  2.03424618e+02  2.68568155e+02 -1.16883148e+01\n",
            "  1.45964188e+02  1.04677689e+02  4.42424072e+01  6.23248209e+01\n",
            "  1.10107372e+02  2.11211544e+02  1.67588383e+02 -1.86389271e+01\n",
            "  1.66272486e+02  7.70131371e+01  2.59733219e+02  3.14887119e+02\n",
            "  1.84169852e+02  1.93315534e+02  1.79590825e+02  3.21154170e+02\n",
            "  4.18740295e+01  1.86163009e+02  2.61398857e+02  1.33088286e+02\n",
            "  8.80709664e+01  1.21903573e+02  2.25854631e+02  5.85830643e+01\n",
            "  1.24060686e+02  1.50320944e+02  2.39308619e+02  1.88675432e+02\n",
            "  1.30891077e+02  2.20426356e+02  2.92374452e+02  1.84741250e+02\n",
            "  2.23145573e+01  3.09943171e+02  2.00447101e+02  1.60191481e+02\n",
            "  2.09263419e+02  1.57599670e+02  5.78795979e+01  6.36694910e+01\n",
            "  2.85019191e+02  3.56819214e+01  2.27793723e+02  1.76711899e+02\n",
            " -2.29110237e+01  3.06941902e+01  3.89742953e+01  1.04633762e+02\n",
            "  5.68510359e+01  1.30688707e+02  3.54800404e+02  8.95706405e+01\n",
            "  9.90564419e+01  2.27628471e+02  7.20453518e+01 -2.73683171e+01\n",
            "  4.70564541e+01  1.14419638e+02  3.59531079e+02  9.38554019e+01\n",
            "  2.05859077e+02  4.76319547e+01  1.42837472e+02  1.08723933e+02\n",
            "  1.62193714e+02  2.04485660e+02  1.94738747e+02 -3.92747888e+01\n",
            "  3.57420756e+02 -3.13878293e+00  7.15524276e+01  6.73169214e+01\n",
            "  1.86675198e+02  2.65807432e+02  1.35681152e+02  1.60109353e+02\n",
            "  1.94060203e+02  2.12093497e+02  2.11905277e+02  2.51995663e+02\n",
            "  2.46284910e+02  1.67481932e+02  1.33104950e+01  2.43672154e+02\n",
            "  2.11080534e+02  1.83488767e+02  1.80773903e+02  1.34293798e+02\n",
            " -1.31410984e+01  1.51919271e+02  2.77931463e+02  6.03407933e+01\n",
            "  1.29475396e+02  1.59473486e+02  2.01082210e+02  2.93846219e+02\n",
            "  1.29142613e+02  2.69431426e+02  3.37375722e+01  5.61461520e+01\n",
            "  1.54337113e+02  1.93929251e+02  1.23337687e+02  1.04180219e+02\n",
            "  3.29427663e+01  2.20377377e+01  2.27882767e+02  1.08738668e+02\n",
            "  2.76007491e+01  2.12936371e+02  2.60630893e+02  1.51276781e+02\n",
            "  3.35220904e+02  1.07869583e+02  2.07940426e+02 -5.76500330e+00\n",
            "  1.14511024e+02  2.47158538e+00  3.05781866e+02  1.78299308e+02\n",
            "  2.13685746e+02  1.06228801e+02  1.36156985e+02  2.88036026e+02\n",
            "  2.13657190e+02  1.71797403e+02  1.70248505e+02  6.79529228e+01\n",
            "  4.37004882e+01  2.05828454e+02  4.44670202e+01  1.79191315e+02\n",
            "  7.86741378e+01  1.49885334e+02  2.47274132e+02  3.11064443e+02\n",
            "  1.22635068e+02  2.46024256e+02  3.12636497e+02  8.96129523e+01\n",
            "  1.50052630e+02  1.73047092e+02  2.60138814e+02  5.52109299e+01\n",
            "  2.99000000e+02  2.09959871e+02 -3.45211695e+01 -1.00782880e+01\n",
            "  6.15233360e+01  5.54813052e+01  3.51238763e+02  2.38161803e+02\n",
            "  1.39180864e+02  2.44942985e+02  8.55715650e+00  2.81145236e+02\n",
            "  2.46579780e+02  1.75174817e+02  2.38341779e+02  1.66137852e+02\n",
            "  1.05791251e+02 -1.16361986e+01  1.88735575e+02 -1.53913284e+01\n",
            "  2.44584825e+02  1.20882152e+02  2.72097438e+02  6.79421276e+01\n",
            "  4.98093566e+01  2.62035722e+02  1.49625764e+02  1.28379971e+02\n",
            "  1.58263553e+01  2.48980659e+02  2.93925423e+02  4.55861912e+01\n",
            "  2.88846741e+02  1.64949472e+02  1.19227213e+02  2.19029621e+02\n",
            " -2.63719981e+01  2.05246216e+02  1.03670801e+02  3.64823426e+02\n",
            "  2.01901761e+02  4.52628494e+01  1.32229022e+02  1.17250818e+01\n",
            "  4.03140301e+01 -3.47940264e+01 -1.42121119e+02  2.59881530e+02\n",
            "  2.46433084e+02  2.09250991e+02  2.87294245e+02  1.52105568e+02\n",
            "  2.11142883e+02  2.25236443e+02  4.85723201e+01  2.36457139e+02\n",
            "  3.24069456e+02  2.64227290e+02  6.88664759e+01  2.51824223e+01\n",
            "  2.63564362e+02  4.42654763e+01 -6.36563980e+01  7.02526839e+01\n",
            "  3.90015912e+01  2.57809746e+02  9.95273009e+01  4.69095219e+01\n",
            "  3.06577628e+02  2.66833262e+02  3.09415966e+01  1.81420261e+02\n",
            "  2.55407033e+02  1.64355578e+02  1.91754864e+02  1.05425394e+02\n",
            "  2.48403984e+02  7.94072701e+01  2.80202082e+02  1.15215739e+02\n",
            "  6.07386257e+00  2.42000000e+02 -6.10438188e+00  3.33521702e+02\n",
            " -8.59856704e+00  3.60587909e+02  1.27373287e+02  5.63921368e+01\n",
            " -8.71827659e-01  3.28643454e+01  2.64166298e+02  4.79460793e+01\n",
            "  2.89127044e+02  4.46267937e+02  2.27269924e+02  3.03860874e+02\n",
            "  2.12456071e+02  5.82902893e+01  1.22561731e+02  2.31460534e+02\n",
            "  1.75520570e+02  2.35139408e+02  2.49181511e+02  3.50360113e+01\n",
            "  7.53245422e+01  1.06041882e+02  7.24084034e+01  3.46264454e+02\n",
            "  2.62109504e+02  8.16348684e+01  1.19143553e+02  4.99262277e+01\n",
            "  2.16545044e+02 -1.51222730e+01  9.23822930e+01  1.50441766e+02\n",
            "  8.99577439e+01  7.20101297e+01  3.51260857e+02  1.54245020e+02\n",
            " -8.25584693e+01  6.85941769e+01  9.51721737e+01  3.13990803e+02\n",
            "  3.20000000e+01  1.72394728e+02  5.94336020e+01  1.70623970e+02\n",
            "  1.88103110e+02  1.88022689e+02  4.88292223e+01  2.73135425e+02\n",
            "  1.47875660e+02  6.10381135e+01  1.48423706e+02  1.92192268e+02\n",
            "  2.29336595e+02  2.46803972e+02  1.89398525e+02  1.69615878e+02\n",
            "  1.91778176e+02  4.39824402e+00  1.88182503e+02  1.54820833e+02\n",
            "  4.22474006e+02  8.61841696e+01 -1.66057969e+01  1.13039487e+02\n",
            "  6.80000000e+01  2.61479642e+02 -1.97390797e+00  7.70754494e+01\n",
            "  1.70929660e+02  1.78415106e+02  2.39571433e+02  2.94883796e+02\n",
            " -3.02876722e+01  2.26089732e+02  2.76516938e+02  1.93778285e+02\n",
            " -5.84983527e+00  2.25176049e+02  8.81116154e+01  3.23483447e+02\n",
            "  2.86376455e+02  1.30999183e+02  1.03922884e+02  1.03947386e+02\n",
            "  3.12991087e+01  1.62769236e+02  2.75051764e+02  2.17654125e+02\n",
            "  5.45149013e+01  4.66943437e+01  9.16630060e+01  2.72628857e+02\n",
            "  9.99161861e+00  8.52201312e+01  1.85094677e+02  1.68721647e+02\n",
            "  1.37925834e+02  2.70037571e+02  6.12416902e+01  2.18507450e+02\n",
            "  1.47852740e+02  1.81071088e+02  2.30391242e+02  2.86702934e+02\n",
            "  2.51032739e+02  2.96620660e+02  1.74964127e+02  2.78257529e+02]\n"
          ]
        }
      ]
    },
    {
      "cell_type": "code",
      "source": [
        "\n",
        "plt.scatter(X_data, Y_data)\n",
        " \n",
        "# naming the x axis\n",
        "plt.xlabel('x - axis')\n",
        "# naming the y axis\n",
        "plt.ylabel('y - axis')\n",
        " \n",
        "# giving a title to my graph\n",
        "plt.title('Data set')\n",
        " \n",
        "# function to show the plot\n",
        "plt.show()"
      ],
      "metadata": {
        "colab": {
          "base_uri": "https://localhost:8080/",
          "height": 295
        },
        "id": "a5Lafn9aInS4",
        "outputId": "cde50ff6-5fc2-4902-f8ee-128db24757d8"
      },
      "execution_count": null,
      "outputs": [
        {
          "output_type": "display_data",
          "data": {
            "text/plain": [
              "<Figure size 432x288 with 1 Axes>"
            ],
            "image/png": "[encoded data removed]"
          },
          "metadata": {
            "needs_background": "light"
          }
        }
      ]
    },
    {
      "cell_type": "markdown",
      "source": [
        "# Commons"
      ],
      "metadata": {
        "id": "xawAa3H0xPmK"
      }
    },
    {
      "cell_type": "markdown",
      "source": [
        "Common Functions"
      ],
      "metadata": {
        "id": "kzqf56IH5off"
      }
    },
    {
      "cell_type": "code",
      "source": [
        "def calculate_y_pred(xi, a, b):\n",
        "  return a*xi+b"
      ],
      "metadata": {
        "id": "uBY0gWRCtY52"
      },
      "execution_count": null,
      "outputs": []
    },
    {
      "cell_type": "code",
      "source": [
        "def plot_regression_line(X_data, Y_data, Y_pred_data, title):\n",
        "  plt.scatter(X_data, Y_data)\n",
        "  plt.plot(X_data, Y_pred_data, color='red')\n",
        "  \n",
        "  # naming the x axis\n",
        "  plt.xlabel('x - axis')\n",
        "  # naming the y axis\n",
        "  plt.ylabel('y - axis')\n",
        "  \n",
        "  # giving a title to my graph\n",
        "  plt.title(title)\n",
        "  \n",
        "  # function to show the plot\n",
        "  plt.show()"
      ],
      "metadata": {
        "id": "vPO3yApm1JX9"
      },
      "execution_count": null,
      "outputs": []
    },
    {
      "cell_type": "markdown",
      "source": [
        "Common constants"
      ],
      "metadata": {
        "id": "jrBjiAMn1-AA"
      }
    },
    {
      "cell_type": "code",
      "source": [
        "learning_rate = 0.0001\n",
        "epsilon = 0.0001\n",
        "iteration_limit = 100"
      ],
      "metadata": {
        "id": "TfxVpf_r7D_t"
      },
      "execution_count": null,
      "outputs": []
    },
    {
      "cell_type": "markdown",
      "source": [
        "# Apply Gradient Descent"
      ],
      "metadata": {
        "id": "5LKLCPRf2aJd"
      }
    },
    {
      "cell_type": "markdown",
      "source": [
        "E = Σ[yi - (a*xi+b)]^2\n",
        "\n",
        "dE/da = -Σ2*[yi-(a*xi+b)]*xi\n",
        "\n",
        "dE/db = -Σ2*[yi-(a*xi+b)]\n",
        "\n",
        "a(i+1) = ai - e*dE/da\n",
        "\n",
        "b(i+1) = bi - e*dE/db\n"
      ],
      "metadata": {
        "id": "gZClchZn4Qq_"
      }
    },
    {
      "cell_type": "code",
      "source": [
        "def de_over_da_gd(x_data, y_data, a, b):\n",
        "  sum = 0\n",
        "  size = len(x_data)\n",
        "  for i in range(size):\n",
        "    xi = x_data[i]\n",
        "    yi = y_data[i]\n",
        "    y_pred = calculate_y_pred(xi,a,b)\n",
        "    sum += -2*(yi-y_pred)*xi\n",
        "  return sum / size"
      ],
      "metadata": {
        "id": "k21A4YYP6EKp"
      },
      "execution_count": null,
      "outputs": []
    },
    {
      "cell_type": "code",
      "source": [
        "def de_over_db_gd(x_data, y_data, a, b):\n",
        "  sum = 0\n",
        "  size = len(x_data)\n",
        "  for i in range(size):\n",
        "    xi = x_data[i]\n",
        "    yi = y_data[i]\n",
        "    y_pred = calculate_y_pred(xi, a, b)\n",
        "    sum += -2*(yi-y_pred)\n",
        "  return sum / size"
      ],
      "metadata": {
        "id": "lVCp9BnchISu"
      },
      "execution_count": null,
      "outputs": []
    },
    {
      "cell_type": "code",
      "source": [
        "def calculate_cost_gd(x_data, y_data, a, b):\n",
        "  sum = 0\n",
        "  size = len(x_data)\n",
        "  for i in range(size):\n",
        "    xi = x_data[i]\n",
        "    yi = y_data[i]\n",
        "    y_pred = calculate_y_pred(xi, a, b)\n",
        "    sum += (yi - y_pred)**2\n",
        "\n",
        "  return sum / size"
      ],
      "metadata": {
        "id": "s94oQ1k3-Et4"
      },
      "execution_count": null,
      "outputs": []
    },
    {
      "cell_type": "markdown",
      "source": [
        "Apply gradient descent"
      ],
      "metadata": {
        "id": "g8TDb8DN2CkM"
      }
    },
    {
      "cell_type": "code",
      "source": [
        "# Starting points\n",
        "a_cur = 0\n",
        "b_cur = 0\n",
        "i = 0\n",
        "cost_data_gd = [] # cost data of gradient descent\n",
        "start_gd = time.perf_counter()\n",
        "while True:\n",
        "  a_cur = a_cur - learning_rate * de_over_da_gd(X_data, Y_data, a_cur, b_cur)\n",
        "  b_cur =  b_cur - learning_rate * de_over_db_gd(X_data, Y_data, a_cur, b_cur)\n",
        "  cost = calculate_cost_gd(X_data, Y_data, a_cur, b_cur)\n",
        "  cost_data_gd.append(cost)\n",
        "  if i % 1000 == 0:\n",
        "    print(\"a: {}, b: {}, cost: {}\".format(a_cur, b_cur, cost))\n",
        "\n",
        "  i += 1\n",
        "  if i == iteration_limit:\n",
        "    break\n",
        "\n",
        "end_gd = time.perf_counter()\n",
        "elapsed_time = end_gd - start_gd\n",
        "print(\"Total elapsed time:\", elapsed_time)\n",
        "# 28 secs total"
      ],
      "metadata": {
        "colab": {
          "base_uri": "https://localhost:8080/"
        },
        "id": "ZPLBDWNo7vnZ",
        "outputId": "ea87bae3-a50c-4f4a-f74a-caa38e310c73"
      },
      "execution_count": null,
      "outputs": [
        {
          "output_type": "stream",
          "name": "stdout",
          "text": [
            "a: 2.105715308067886, b: 0.009707278407068351, cost: 6457.836316932811\n",
            "Total elapsed time: 0.29282826900089276\n"
          ]
        }
      ]
    },
    {
      "cell_type": "markdown",
      "source": [
        "Total elapsed time"
      ],
      "metadata": {
        "id": "7QmLImSQ8BFS"
      }
    },
    {
      "cell_type": "code",
      "source": [
        "print(\"Total elapsed time:\", elapsed_time)"
      ],
      "metadata": {
        "colab": {
          "base_uri": "https://localhost:8080/"
        },
        "id": "Q8cayYC18ClW",
        "outputId": "f4ad8b64-bf53-47fd-9019-3f2217bba363"
      },
      "execution_count": null,
      "outputs": [
        {
          "output_type": "stream",
          "name": "stdout",
          "text": [
            "Total elapsed time: 0.29282826900089276\n"
          ]
        }
      ]
    },
    {
      "cell_type": "markdown",
      "source": [
        "Cost data of gradient descent"
      ],
      "metadata": {
        "id": "_jDGE0uNZAbY"
      }
    },
    {
      "cell_type": "code",
      "source": [
        "print(\"Cost data of gradient descent: \", cost_data_gd)"
      ],
      "metadata": {
        "colab": {
          "base_uri": "https://localhost:8080/"
        },
        "id": "0az0L5DMZBx2",
        "outputId": "135579c8-2f74-4de2-ad3b-4cd233d6f3c3"
      },
      "execution_count": null,
      "outputs": [
        {
          "output_type": "stream",
          "name": "stdout",
          "text": [
            "Cost data of gradient descent:  [6457.836316932811, 3656.5319595011406, 3386.4570739910496, 3360.419094357425, 3357.908780659909, 3357.6667647355703, 3357.6434315380384, 3357.641180105815, 3357.6409606978773, 3357.6409370498263, 3357.640932229143, 3357.640929209512, 3357.640926359314, 3357.640923524323, 3357.6409206906183, 3357.6409178571507, 3357.6409150239087, 3357.6409121909337, 3357.640909358221, 3357.640906525787, 3357.6409036936225, 3357.6409008617334, 3357.640898030129, 3357.64089519879, 3357.6408923677336, 3357.640889536944, 3357.640886706432, 3357.6408838761968, 3357.64088104624, 3357.640878216556, 3357.6408753871483, 3357.640872558022, 3357.6408697291563, 3357.6408669005677, 3357.6408640722634, 3357.640861244228, 3357.640858416467, 3357.640855588982, 3357.640852761778, 3357.6408499348368, 3357.6408471081863, 3357.6408442817974, 3357.6408414556868, 3357.6408386298517, 3357.64083580429, 3357.6408329790074, 3357.640830153996, 3357.640827329254, 3357.640824504799, 3357.640821680616, 3357.6408188566975, 3357.64081603306, 3357.6408132096976, 3357.6408103866097, 3357.6408075637937, 3357.640804741258, 3357.6408019189917, 3357.640799096999, 3357.640796275277, 3357.6407934538424, 3357.640790632669, 3357.6407878117698, 3357.6407849911625, 3357.640782170814, 3357.6407793507483, 3357.6407765309445, 3357.640773711419, 3357.6407708921747, 3357.640768073203, 3357.640765254501, 3357.6407624360745, 3357.6407596179224, 3357.640756800042, 3357.6407539824436, 3357.640751165108, 3357.640748348052, 3357.6407455312733, 3357.6407427147606, 3357.6407398985275, 3357.640737082564, 3357.640734266881, 3357.64073145147, 3357.6407286363255, 3357.640725821464, 3357.6407230068694, 3357.640720192546, 3357.6407173785033, 3357.640714564729, 3357.640711751238, 3357.640708938011, 3357.640706125059, 3357.6407033123824, 3357.640700499975, 3357.640697687844, 3357.64069487599, 3357.6406920644117, 3357.6406892530963, 3357.640686442061, 3357.6406836313, 3357.640680820806]\n"
          ]
        }
      ]
    },
    {
      "cell_type": "markdown",
      "source": [
        "To check, print first predicted y value and other variables"
      ],
      "metadata": {
        "id": "bz2whh-W2H4q"
      }
    },
    {
      "cell_type": "code",
      "source": [
        "y_pred = calculate_y_pred(X_data[0], a_cur, b_cur)\n",
        "print(\"y: {}, y_pred: {}, x: {}, a:  {}, b:  {}, cost: {}, iteration: {}\".format(Y_data[0], y_pred, X_data[0], a_cur, b_cur, cost, i))"
      ],
      "metadata": {
        "colab": {
          "base_uri": "https://localhost:8080/"
        },
        "id": "-Cvf_A3Kukb0",
        "outputId": "2577ebba-e584-4c71-a0b5-2ac916753657"
      },
      "execution_count": null,
      "outputs": [
        {
          "output_type": "stream",
          "name": "stdout",
          "text": [
            "y: 98.36586927261972, y_pred: 24.447346813754073, x: 8, a:  3.0539515074518677, b:  0.01573475413913112, cost: 3357.640680820806, iteration: 100\n"
          ]
        }
      ]
    },
    {
      "cell_type": "markdown",
      "source": [
        "To see better, print first ten real and predicted y values"
      ],
      "metadata": {
        "id": "zzoX0hgS2SmP"
      }
    },
    {
      "cell_type": "code",
      "source": [
        "Y_pred_data = a_cur * X_data + b_cur\n",
        "print(\"First ten y and predicted values: \")\n",
        "for i in range(10):\n",
        "  print(\"y: {}, y_pred: {}\".format(Y_data[i], Y_pred_data[i]))"
      ],
      "metadata": {
        "id": "b-smSYxA-vXR",
        "colab": {
          "base_uri": "https://localhost:8080/"
        },
        "outputId": "cae07ee9-6fb8-47a6-c7c6-3b913a8f3062"
      },
      "execution_count": null,
      "outputs": [
        {
          "output_type": "stream",
          "name": "stdout",
          "text": [
            "First ten y and predicted values: \n",
            "y: 98.36586927261972, y_pred: 24.447346813754073\n",
            "y: 245.26649280700445, y_pred: 204.63048575341426\n",
            "y: 80.29791355556956, y_pred: 140.49750409692504\n",
            "y: 147.86228285797992, y_pred: 155.76726163418436\n",
            "y: 194.15503267046944, y_pred: 198.52258273851052\n",
            "y: 136.31607271129764, y_pred: 143.5514556043769\n",
            "y: -0.934975546699742, y_pred: 3.069686261590999\n",
            "y: 244.6847683865175, y_pred: 100.79613450005077\n",
            "y: 190.06832714967288, y_pred: 219.9002432906736\n",
            "y: 251.1002162475031, y_pred: 290.1411279620666\n"
          ]
        }
      ]
    },
    {
      "cell_type": "markdown",
      "source": [
        "Plot regression line"
      ],
      "metadata": {
        "id": "fsImQDF92XIR"
      }
    },
    {
      "cell_type": "code",
      "source": [
        "title = 'Data set with Gradient Descent'\n",
        "plot_regression_line(X_data, Y_data, Y_pred_data, title)"
      ],
      "metadata": {
        "colab": {
          "base_uri": "https://localhost:8080/",
          "height": 295
        },
        "id": "LZTfL3xQ0hrM",
        "outputId": "cdb29bf7-60b1-4203-9996-4dfef0e97c93"
      },
      "execution_count": null,
      "outputs": [
        {
          "output_type": "display_data",
          "data": {
            "text/plain": [
              "<Figure size 432x288 with 1 Axes>"
            ],
            "image/png": "[encoded data removed]"
          },
          "metadata": {
            "needs_background": "light"
          }
        }
      ]
    },
    {
      "cell_type": "markdown",
      "source": [
        "# Apply Stochastic Gradient Descent"
      ],
      "metadata": {
        "id": "DF9Jx7vHwVhM"
      }
    },
    {
      "cell_type": "markdown",
      "source": [
        "E = [yi - (a*xi+b)]^2\n",
        "\n",
        "dE/da = -2[yi-(axi+b)]*xi\n",
        "\n",
        "dE/db = -2[yi-(axi+b)]\n",
        "\n",
        "a(i+1) = ai - e*dE/da\n",
        "\n",
        "b(i+1) = bi - e*dE/db\n",
        "\n"
      ],
      "metadata": {
        "id": "MZ7er7EXwgsd"
      }
    },
    {
      "cell_type": "markdown",
      "source": [
        "Functions"
      ],
      "metadata": {
        "id": "ZBE0S8Kr2fuo"
      }
    },
    {
      "cell_type": "code",
      "source": [
        "def de_over_da_sgd(xi, yi, a, b):\n",
        "  y_pred = calculate_y_pred(xi, a, b)\n",
        "  return -2*(yi - y_pred)*xi"
      ],
      "metadata": {
        "id": "C8z84ubsx6Kh"
      },
      "execution_count": null,
      "outputs": []
    },
    {
      "cell_type": "code",
      "source": [
        "def de_over_db_sgd(xi, yi, a, b):\n",
        "  y_pred = calculate_y_pred(xi, a, b)\n",
        "  return -2*(yi - y_pred)  "
      ],
      "metadata": {
        "id": "LCO4Mht0ytmh"
      },
      "execution_count": null,
      "outputs": []
    },
    {
      "cell_type": "code",
      "source": [
        "def calculate_cost_sgd(xi, yi, a, b):\n",
        "  y_pred = calculate_y_pred(xi, a, b)\n",
        "  return (yi - y_pred)**2"
      ],
      "metadata": {
        "id": "soCZHY47yuLB"
      },
      "execution_count": null,
      "outputs": []
    },
    {
      "cell_type": "markdown",
      "source": [
        "Pick random x, y points"
      ],
      "metadata": {
        "id": "40-hzi9l2jhm"
      }
    },
    {
      "cell_type": "code",
      "source": [
        "r = rnd.randint(0, len(X_data))\n",
        "xr = X_data[r]\n",
        "yr = Y_data[r]"
      ],
      "metadata": {
        "id": "1_TnSsp0zPQX"
      },
      "execution_count": null,
      "outputs": []
    },
    {
      "cell_type": "markdown",
      "source": [
        "Apply stochastic gradient descent"
      ],
      "metadata": {
        "id": "4vhrPbJR2pJa"
      }
    },
    {
      "cell_type": "code",
      "source": [
        "# Starting points\n",
        "a_cur = 0\n",
        "b_cur = 0\n",
        "i = 0\n",
        "cost_data_sgd = []\n",
        "start_gd = time.perf_counter()\n",
        "while True:\n",
        "  a_cur = a_cur - learning_rate * de_over_da_sgd(xr, yr, a_cur, b_cur)\n",
        "  b_cur =  b_cur - learning_rate * de_over_db_sgd(xr, yr, a_cur, b_cur)\n",
        "\n",
        "  cost = calculate_cost_sgd(xr, yr, a_cur, b_cur)\n",
        "  cost_data_sgd.append(cost)\n",
        "  if i % 1000 == 0:\n",
        "    print(\"a: {}, b: {}, cost: {}\".format(a_cur, b_cur, cost))\n",
        "\n",
        "  i+=1\n",
        "  if i == iteration_limit:\n",
        "    break\n",
        "\n",
        "end_gd = time.perf_counter()\n",
        "elapsed_time = end_gd - start_gd\n",
        "print(\"Total elapsed time:\", elapsed_time)"
      ],
      "metadata": {
        "colab": {
          "base_uri": "https://localhost:8080/"
        },
        "id": "tzAEQrHGwbpU",
        "outputId": "68ab3569-fc6c-4e84-859a-b4acf7157774"
      },
      "execution_count": null,
      "outputs": [
        {
          "output_type": "stream",
          "name": "stdout",
          "text": [
            "a: 8.105009015318661, b: -0.07861040057079777, cost: 154428.08717634808\n",
            "Total elapsed time: 0.0008795390003797365\n"
          ]
        }
      ]
    },
    {
      "cell_type": "markdown",
      "source": [
        "Total elapsed time"
      ],
      "metadata": {
        "id": "HJi91JBx8OOb"
      }
    },
    {
      "cell_type": "code",
      "source": [
        "print(\"Total elapsed time:\", elapsed_time)\n"
      ],
      "metadata": {
        "colab": {
          "base_uri": "https://localhost:8080/"
        },
        "id": "ac43lzUl8P2j",
        "outputId": "500fc511-3955-4d09-f921-d848b4c67a09"
      },
      "execution_count": null,
      "outputs": [
        {
          "output_type": "stream",
          "name": "stdout",
          "text": [
            "Total elapsed time: 0.0008795390003797365\n"
          ]
        }
      ]
    },
    {
      "cell_type": "markdown",
      "source": [
        "Cost data of stochastic gradient descent"
      ],
      "metadata": {
        "id": "dw4kPx27YrPR"
      }
    },
    {
      "cell_type": "code",
      "source": [
        "print(\"cost data of stochastic gradient descent: \", cost_data_sgd)"
      ],
      "metadata": {
        "colab": {
          "base_uri": "https://localhost:8080/"
        },
        "id": "829-6ul8YwQJ",
        "outputId": "a3668758-9b2a-46cc-a687-bc2e69aef573"
      },
      "execution_count": null,
      "outputs": [
        {
          "output_type": "stream",
          "name": "stdout",
          "text": [
            "cost data of stochastic gradient descent:  [154428.08717634808, 142323.28530684914, 131167.314903044, 120885.80207926346, 111410.2027257991, 102677.34554356594, 94629.0108978636, 87211.54268356628, 80375.49061414966, 74075.2805497912, 68268.91066670876, 62917.6714421799, 57985.88758845577, 53440.68021511216, 49251.747634237334, 45391.16334714324, 41833.18986583096, 38554.10712800783, 35532.054361744915, 32746.8843455287, 30180.02909209695, 27814.37606060942, 25634.15407189224, 23624.82816618364, 21773.002702425594, 20066.332053089893, 18493.4382991651, 17043.83537659855, 15707.859168497986, 14476.603077036274, 13341.858645534008, 12296.060834863554, 11332.237589346298, 10443.963355913096, 9625.316246652023, 8870.838559157635, 8175.500391481611, 7534.666109115052, 6944.063440446931, 6399.75499466626, 5898.112012225462, 5435.790172866199, 5009.707299926277, 4617.022812288079, 4255.118786980273, 3921.582506182078, 3614.190372275643, 3330.8930837125313, 3069.801972865696, 2829.1764147850467, 2607.4122229141394, 2403.030954405365, 2214.6700537349275, 2041.0737689077966, 1881.0847796933747, 1733.6364820795131, 1597.7458775074101, 1472.5070194818632, 1357.084973867065, 1250.7102526029469, 1152.6736837330616, 1062.3216835438707, 979.0518992960939, 902.309193499303, 831.5819429579979, 766.3986279159305, 706.3246885593904, 650.9596279225656, 599.9343418808644, 552.908658431951, 509.5690698595269, 469.6266426608354, 432.8150913038855, 398.8890029726865, 367.6222014653119, 338.80623933735455, 312.2490082382914, 287.7734581762355, 265.2164171727669, 244.42750343877302, 225.2681228190813, 207.61054482211316, 191.33705107469405, 176.3391505249794, 162.51685616149706, 149.7780184263473, 138.03771087862248, 127.21766401242682, 117.24574345491634, 108.05546906562505, 99.58557173107143, 91.77958489987617, 84.5854681352932, 77.95526017547141, 71.84475918848594, 66.21322809048473, 61.023122962392776, 56.23984275460023, 51.83149861096771, 47.76870127431062]\n"
          ]
        }
      ]
    },
    {
      "cell_type": "markdown",
      "source": [
        "To check, print first predicted y value and other variables"
      ],
      "metadata": {
        "id": "an_n-Ajf2wpC"
      }
    },
    {
      "cell_type": "code",
      "source": [
        "y_pred = calculate_y_pred(xr, a_cur, b_cur)\n",
        "print(\"y: {}, y_pred: {}, x: {}, a:  {}, b:  {}, cost: {}, iteration: {}\".format(yr, y_pred, xr, a_cur, b_cur, cost, i))"
      ],
      "metadata": {
        "colab": {
          "base_uri": "https://localhost:8080/"
        },
        "id": "61M3oyyRzrq9",
        "outputId": "998c482f-0e14-4cfa-8c4d-0bd18bdee64f"
      },
      "execution_count": null,
      "outputs": [
        {
          "output_type": "stream",
          "name": "stdout",
          "text": [
            "y: 409.3438896625586, y_pred: 402.43239913776506, x: 99, a:  4.0653720115135386, b:  -0.039430002075306086, cost: 47.76870127431062, iteration: 100\n"
          ]
        }
      ]
    },
    {
      "cell_type": "markdown",
      "source": [
        "Plot regression line"
      ],
      "metadata": {
        "id": "eSijuQkv2zbt"
      }
    },
    {
      "cell_type": "code",
      "source": [
        "Y_pred_data = a_cur * X_data + b_cur\n",
        "title = 'Data set with Stochastic Gradient Descent'\n",
        "plot_regression_line(X_data, Y_data, Y_pred_data, title)"
      ],
      "metadata": {
        "colab": {
          "base_uri": "https://localhost:8080/",
          "height": 295
        },
        "id": "Nbx4VKWF1ni9",
        "outputId": "e5adeb73-e7db-4b4b-cbb1-969d6fdb965d"
      },
      "execution_count": null,
      "outputs": [
        {
          "output_type": "display_data",
          "data": {
            "text/plain": [
              "<Figure size 432x288 with 1 Axes>"
            ],
            "image/png": "[encoded data removed]"
          },
          "metadata": {
            "needs_background": "light"
          }
        }
      ]
    },
    {
      "cell_type": "markdown",
      "source": [
        "# Mini-batches"
      ],
      "metadata": {
        "id": "8ez1apB_23hs"
      }
    },
    {
      "cell_type": "markdown",
      "source": [
        "N = mini-batch size. \n",
        "\n",
        "E = Σ[yi - (a*xi+b)]^2\n",
        "\n",
        "dE/da = -Σ2*[yi-(axi+b)]xi\n",
        "\n",
        "dE/db = -Σ2*[yi-(a*xi+b)]\n",
        "\n",
        "a(i+1) = ai - e*dE/da\n",
        "\n",
        "b(i+1) = bi - e*dE/db"
      ],
      "metadata": {
        "id": "EKHVSl6D4uiB"
      }
    },
    {
      "cell_type": "markdown",
      "source": [
        "Functions"
      ],
      "metadata": {
        "id": "loeRnYDQ47-J"
      }
    },
    {
      "cell_type": "code",
      "source": [
        "def de_over_da_minibatch(x_data, y_data, a, b):\n",
        "  sum = 0\n",
        "  size = len(x_data)\n",
        "  for i in range(size):\n",
        "    xi = x_data[i]\n",
        "    yi = y_data[i]\n",
        "    y_pred = calculate_y_pred(xi,a,b)\n",
        "    sum += -2*(yi-y_pred)*xi\n",
        "  return sum / size"
      ],
      "metadata": {
        "id": "KzYl7JtI45wL"
      },
      "execution_count": null,
      "outputs": []
    },
    {
      "cell_type": "code",
      "source": [
        "def de_over_db_minibatch(x_data, y_data, a, b):\n",
        "  sum = 0\n",
        "  size = len(x_data)\n",
        "  for i in range(size):\n",
        "    xi = x_data[i]\n",
        "    yi = y_data[i]\n",
        "    y_pred = calculate_y_pred(xi, a, b)\n",
        "    sum += -2*(yi-y_pred)\n",
        "  return sum / size"
      ],
      "metadata": {
        "id": "rJKvL3IS5PlH"
      },
      "execution_count": null,
      "outputs": []
    },
    {
      "cell_type": "code",
      "source": [
        "def calculate_cost_minibatch(x_data, y_data, a, b):\n",
        "  sum = 0\n",
        "  size = len(x_data)\n",
        "  for i in range(size):\n",
        "    xi = x_data[i]\n",
        "    yi = y_data[i]\n",
        "    y_pred = calculate_y_pred(xi, a, b)\n",
        "    sum += (yi - y_pred)**2\n",
        "\n",
        "  return sum / size"
      ],
      "metadata": {
        "id": "5ShKFvAM5UPZ"
      },
      "execution_count": null,
      "outputs": []
    },
    {
      "cell_type": "code",
      "source": [
        "def get_random_x_y(x_data, y_data, N):\n",
        "  xr_data = []\n",
        "  yr_data = []\n",
        "  start_index = 0\n",
        "  end_index = len(x_data)-1 # end index is the last index of incoming x_data\n",
        "  for i in range(N): # produce N random indices\n",
        "    r = rnd.randint(start_index, end_index)\n",
        "\n",
        "    xr_data.append(x_data[r]) # store x value\n",
        "    yr_data.append(y_data[r])\n",
        "\n",
        "    x_data = np.delete(x_data, r) # remove element in order not to select it again\n",
        "    y_data = np.delete(y_data, r)\n",
        "\n",
        "    end_index -= 1 # decrement end index because of popping\n",
        "\n",
        "  return xr_data, yr_data"
      ],
      "metadata": {
        "id": "2aGNehyX9b6n"
      },
      "execution_count": null,
      "outputs": []
    },
    {
      "cell_type": "code",
      "source": [
        "def get_random_y(y_data, indices):\n",
        "  yr_data = []\n",
        "  for i in indices:\n",
        "    e = y_data[i]\n",
        "    yr_data.append(e)\n",
        "\n",
        "  return yr_data"
      ],
      "metadata": {
        "id": "devISTY3Kk7Y"
      },
      "execution_count": null,
      "outputs": []
    },
    {
      "cell_type": "markdown",
      "source": [
        "Mini-batch size"
      ],
      "metadata": {
        "id": "wF9V2ifs5eYh"
      }
    },
    {
      "cell_type": "code",
      "source": [
        "N = 5"
      ],
      "metadata": {
        "id": "5HKR7qSm5YZL"
      },
      "execution_count": null,
      "outputs": []
    },
    {
      "cell_type": "markdown",
      "source": [
        "Apply mini-batch"
      ],
      "metadata": {
        "id": "yCQQwMPG6Pwy"
      }
    },
    {
      "cell_type": "code",
      "source": [
        "a_cur = 0\n",
        "b_cur = 0\n",
        "i = 0\n",
        "epoch = 0\n",
        "cost_data_mb = []\n",
        "X_data_copy = np.copy(X_data)\n",
        "Y_data_copy = np.copy(Y_data)\n",
        "size = len(X_data_copy) + N\n",
        "start_gd = time.perf_counter()\n",
        "while True:\n",
        "  size -= N\n",
        "  xr_data, yr_data = get_random_x_y(X_data_copy, Y_data_copy,N)\n",
        "\n",
        "  a_cur = a_cur - learning_rate * de_over_da_minibatch(xr_data, yr_data, a_cur, b_cur)\n",
        "  b_cur = b_cur - learning_rate * de_over_db_minibatch(xr_data, yr_data, a_cur, b_cur)\n",
        "\n",
        "  cost = calculate_cost_minibatch(xr_data, yr_data, a_cur, b_cur)\n",
        "  cost_data_mb.append(cost)\n",
        "\n",
        "  i += 1\n",
        "  if i % 1000 == 0:\n",
        "    print(\"a: {}, b: {}, cost: {}\".format(a_cur, b_cur, cost))\n",
        "  \n",
        "  if i == iteration_limit:\n",
        "    break\n",
        "  \n",
        "  if size == 0: # go over the data set again\n",
        "    X_data_copy = np.copy(X_data)\n",
        "    Y_data_copy = np.copy(Y_data)\n",
        "    size = len(X_data_copy) + N\n",
        "    epoch += 1\n",
        "\n",
        "end_gd = time.perf_counter()\n",
        "elapsed_time = end_gd - start_gd\n",
        "print(\"Total elapsed time:\", elapsed_time)"
      ],
      "metadata": {
        "colab": {
          "base_uri": "https://localhost:8080/"
        },
        "id": "0Tnef3E-6Ry5",
        "outputId": "6de1c113-e116-436b-8182-6d9ada527eb8"
      },
      "execution_count": null,
      "outputs": [
        {
          "output_type": "stream",
          "name": "stdout",
          "text": [
            "Total elapsed time: 0.017452382999181282\n"
          ]
        }
      ]
    },
    {
      "cell_type": "markdown",
      "source": [
        "Total elapsed time"
      ],
      "metadata": {
        "id": "IKbAO6kqOuH0"
      }
    },
    {
      "cell_type": "code",
      "source": [
        "print(\"Total elapsed time:\", elapsed_time)"
      ],
      "metadata": {
        "colab": {
          "base_uri": "https://localhost:8080/"
        },
        "id": "vfatJR-mOvtt",
        "outputId": "671c4c20-8b69-444d-ea5d-803aae920d52"
      },
      "execution_count": null,
      "outputs": [
        {
          "output_type": "stream",
          "name": "stdout",
          "text": [
            "Total elapsed time: 0.017452382999181282\n"
          ]
        }
      ]
    },
    {
      "cell_type": "markdown",
      "source": [
        "Epoch"
      ],
      "metadata": {
        "id": "UlDvOlhqOz7V"
      }
    },
    {
      "cell_type": "code",
      "source": [
        "print(\"epoch:\", epoch)"
      ],
      "metadata": {
        "colab": {
          "base_uri": "https://localhost:8080/"
        },
        "id": "vYJNlCVGO1JG",
        "outputId": "338d0035-2545-460a-f9c9-b5af01da6e39"
      },
      "execution_count": null,
      "outputs": [
        {
          "output_type": "stream",
          "name": "stdout",
          "text": [
            "epoch: 0\n"
          ]
        }
      ]
    },
    {
      "cell_type": "markdown",
      "source": [
        "Cost data of mini-batches"
      ],
      "metadata": {
        "id": "6wvP2O1iZNy6"
      }
    },
    {
      "cell_type": "code",
      "source": [
        "print(\"Cost data of mini-batches: \", cost_data_mb)"
      ],
      "metadata": {
        "colab": {
          "base_uri": "https://localhost:8080/"
        },
        "id": "BR15hrUhZQXR",
        "outputId": "98401320-f322-4a2f-9fa1-5f45d8dab0d7"
      },
      "execution_count": null,
      "outputs": [
        {
          "output_type": "stream",
          "name": "stdout",
          "text": [
            "Cost data of mini-batches:  [1790.7772796192432, 2222.779807601106, 3520.8465086412216, 5501.69061105247, 180.80642912675557, 5905.002927373751, 3726.0010965937195, 426.94619616918544, 774.7891082537877, 5480.2677695532675, 497.0452499483855, 1542.0133377011327, 1180.6926563750153, 557.0390349760621, 1587.295694703418, 4401.127783907351, 1075.9783833838208, 2294.0287311790244, 1235.2458641804528, 10694.24380232237, 733.218755762663, 5097.425543142898, 2334.042226801675, 786.7487801180685, 1124.6433324643385, 1757.2075993268838, 2275.488476030264, 1453.5683416922905, 2178.627625683204, 3025.5501654181658, 4517.870765290707, 5472.813052265471, 5540.7680081727685, 1941.6521755759345, 819.5890666772963, 3275.9128968150303, 3291.1909538549626, 3292.4339197406653, 1043.0229685826284, 5958.418875543525, 706.410670774326, 5991.016738298699, 336.52803694489376, 5522.472627415512, 2293.2818715256226, 2668.0018377934293, 1419.7010800524047, 322.3367546492915, 3047.1317384849635, 500.44157406058514, 6643.518024939911, 948.9368405902948, 1883.2227301274604, 4308.478195853018, 5844.245418521571, 268.1951499815519, 3117.8491683687107, 5336.258891695644, 1162.200183680308, 2496.653763776197, 236.97367386922707, 1579.865714396809, 2006.2792488436087, 3900.427916138908, 1242.9025713540818, 4041.9051986988497, 856.7520943963439, 1777.0151022506875, 473.79502125259125, 1147.1665154367709, 1219.1014607529144, 4944.476345450144, 3668.7917363932293, 196.90445073767924, 1398.5259894391324, 1716.5859499111134, 6252.773756042441, 23029.25421384655, 1312.2245793674472, 1051.7612844870812, 3897.6012829341234, 2259.0889670254473, 2992.4304874551576, 3885.98468513848, 1885.5124967805255, 1720.845579265912, 389.46614122635873, 2808.2525643658637, 1149.9558369141532, 1840.2996695343033, 2696.8165084945113, 876.4449573919616, 3752.3210198100182, 639.3351260659795, 768.6488613318601, 1765.6715878393275, 1018.4307632463939, 4080.5796974188197, 936.991728851432, 6027.331003912529]\n"
          ]
        }
      ]
    },
    {
      "cell_type": "markdown",
      "source": [
        "To check, print first predicted y value and other variables"
      ],
      "metadata": {
        "id": "pYDBja7ySBrm"
      }
    },
    {
      "cell_type": "code",
      "source": [
        "y_pred = calculate_y_pred(X_data[0], a_cur, b_cur)\n",
        "print(\"y: {}, y_pred: {}, x: {}, a:  {}, b:  {}, cost: {}, iteration: {}, epoch: {}\".format(Y_data[0], y_pred, X_data[0], a_cur, b_cur, cost, i, epoch))"
      ],
      "metadata": {
        "colab": {
          "base_uri": "https://localhost:8080/"
        },
        "id": "aw1nZ1WsO4op",
        "outputId": "23515754-3555-4e1e-e073-e95224b7ef3b"
      },
      "execution_count": null,
      "outputs": [
        {
          "output_type": "stream",
          "name": "stdout",
          "text": [
            "y: 98.36586927261972, y_pred: 23.519629329308792, x: 8, a:  2.937544006022214, b:  0.019277281131078027, cost: 6027.331003912529, iteration: 100, epoch: 0\n"
          ]
        }
      ]
    },
    {
      "cell_type": "markdown",
      "source": [
        "Plot regression line"
      ],
      "metadata": {
        "id": "_Wc7bsjnSawZ"
      }
    },
    {
      "cell_type": "code",
      "source": [
        "Y_pred_data = a_cur * X_data + b_cur\n",
        "title = 'Data set with Mini-batches N = 5'\n",
        "plot_regression_line(X_data, Y_data, Y_pred_data, title)"
      ],
      "metadata": {
        "colab": {
          "base_uri": "https://localhost:8080/",
          "height": 295
        },
        "id": "8nZuksVlSc5e",
        "outputId": "44e960d4-6be0-4d27-ed40-e4f414c5ce89"
      },
      "execution_count": null,
      "outputs": [
        {
          "output_type": "display_data",
          "data": {
            "text/plain": [
              "<Figure size 432x288 with 1 Axes>"
            ],
            "image/png": "[encoded data removed]"
          },
          "metadata": {
            "needs_background": "light"
          }
        }
      ]
    },
    {
      "cell_type": "markdown",
      "source": [
        "Cost plot of gradiend descent vs stochastic gradient descent vs mini-batches"
      ],
      "metadata": {
        "id": "b5Hsy08Pav9J"
      }
    },
    {
      "cell_type": "code",
      "source": [
        "from matplotlib.pyplot import figure\n",
        "\n",
        "figure(figsize=(8, 6), dpi=80)\n",
        "\n",
        "i = [x for x in range(1,iteration_limit+1)]\n",
        "plt.xlabel(\"iteration\")\n",
        "plt.ylabel(\"cost\")\n",
        "plt.title(\"GD vs SGD vs MB\")\n",
        "\n",
        "plt.plot(cost_data_gd, i, color='red')\n",
        "plt.plot(cost_data_sgd, i, color=\"blue\")\n",
        "plt.plot(cost_data_mb, i, color=\"green\")\n",
        "\n",
        "plt.legend([\"GD\", \"SGD\", \"MB\"], loc=\"upper right\")\n",
        "\n",
        "plt.show()"
      ],
      "metadata": {
        "colab": {
          "base_uri": "https://localhost:8080/",
          "height": 444
        },
        "id": "MuNcm3O8a3LI",
        "outputId": "fffaba2b-2045-48b9-f951-64254cdc0a97"
      },
      "execution_count": null,
      "outputs": [
        {
          "output_type": "display_data",
          "data": {
            "text/plain": [
              "<Figure size 640x480 with 1 Axes>"
            ],
            "image/png": "[encoded data removed]"
          },
          "metadata": {
            "needs_background": "light"
          }
        }
      ]
    },
    {
      "cell_type": "code",
      "source": [
        ""
      ],
      "metadata": {
        "id": "K3EprVyCbD2r"
      },
      "execution_count": null,
      "outputs": []
    }
  ]
}